{
 "cells": [
  {
   "cell_type": "markdown",
   "metadata": {},
   "source": [
    "# Домашняя работа 8. Деревья решений. (32 балла)\n",
    "\n",
    "1. Скачайте этот ноутбук к себе.\n",
    "2. Заполните пропущенные ячейки, отвечая на заданные вопросы. Там должен быть код! (если не сказано обратное)\n",
    "3. Сохраните результат в своём гитхаб репозитории.\n",
    "4. Пришлите на почту ml-teachers ссылку на этот файл в вашем репозитории.\n",
    "5. В теме письма указать `ML Homework #8: Name Surname`. Если тема будет неправильная, то задание не будет проверено.\n",
    "6. Дедлайн: 18.12.2017 01:00 OMSK\n",
    "7. После дедлайна можно сдать, но вы получите штраф по баллам в рейтинге.\n",
    "\n",
    "Рассылка решений: 25.12.2017 17:00 OMSK\n",
    "После рассылки задания почти совсем не имеют веса.\n",
    "\n",
    "## Полезная литература\n",
    "\n",
    "- [Habrahabr: ODS деревья решений](https://habrahabr.ru/company/ods/blog/322534/#derevo-resheniy)\n",
    "- [ВМК МГУ семинары по решающим деревьям](https://github.com/esokolov/ml-course-msu/blob/master/ML16/lecture-notes/Sem04_trees.pdf)\n",
    "- [Sklearn Decision Trees](http://scikit-learn.org/stable/modules/tree.html)"
   ]
  },
  {
   "cell_type": "markdown",
   "metadata": {},
   "source": [
    "## 1. Сравнение моделей деревьев\n",
    "\n",
    "В этом блоке вы сравните разные конфигурации композиции деревьев:\n",
    "- DecisionTree\n",
    "- Bagging\n",
    "- Bagging с другими настройками подбора признаков для разбиения\n",
    "- RandomForest\n",
    "\n",
    "Будем использовать [датасет с винишком](https://archive.ics.uci.edu/ml/datasets/wine+quality) - это задача то ли классификации то ли регресси - нужно предсказывать качество вина. Будем думать что это классификация.\n",
    "\n",
    "![](https://upload.wikimedia.org/wikipedia/en/thumb/7/7c/Lulz_Security.svg/300px-Lulz_Security.svg.png)"
   ]
  },
  {
   "cell_type": "markdown",
   "metadata": {},
   "source": [
    "### 1.1 Чтение данных (1 балла)\n",
    "\n",
    "Данные лежат как обычно в `'../../data/winequality-red.csv.gz'`.\n",
    "\n",
    "- Прочитайте их с помощью pandas\n",
    "- нарисуйте countplot целевого признака `quality`.\n",
    "- Что вы думаете по поводу количества представителей каждого класса.\n",
    "- Разбейте данные на X и y."
   ]
  },
  {
   "cell_type": "code",
   "execution_count": 1,
   "metadata": {
    "collapsed": true
   },
   "outputs": [],
   "source": [
    "import pandas as pd\n",
    "import numpy as np\n",
    "import seaborn as sns\n",
    "\n",
    "%matplotlib inline"
   ]
  },
  {
   "cell_type": "code",
   "execution_count": 2,
   "metadata": {},
   "outputs": [
    {
     "data": {
      "text/html": [
       "<div>\n",
       "<style>\n",
       "    .dataframe thead tr:only-child th {\n",
       "        text-align: right;\n",
       "    }\n",
       "\n",
       "    .dataframe thead th {\n",
       "        text-align: left;\n",
       "    }\n",
       "\n",
       "    .dataframe tbody tr th {\n",
       "        vertical-align: top;\n",
       "    }\n",
       "</style>\n",
       "<table border=\"1\" class=\"dataframe\">\n",
       "  <thead>\n",
       "    <tr style=\"text-align: right;\">\n",
       "      <th></th>\n",
       "      <th>fixed acidity</th>\n",
       "      <th>volatile acidity</th>\n",
       "      <th>citric acid</th>\n",
       "      <th>residual sugar</th>\n",
       "      <th>chlorides</th>\n",
       "      <th>free sulfur dioxide</th>\n",
       "      <th>total sulfur dioxide</th>\n",
       "      <th>density</th>\n",
       "      <th>pH</th>\n",
       "      <th>sulphates</th>\n",
       "      <th>alcohol</th>\n",
       "      <th>quality</th>\n",
       "    </tr>\n",
       "  </thead>\n",
       "  <tbody>\n",
       "    <tr>\n",
       "      <th>0</th>\n",
       "      <td>7.4</td>\n",
       "      <td>0.70</td>\n",
       "      <td>0.00</td>\n",
       "      <td>1.9</td>\n",
       "      <td>0.076</td>\n",
       "      <td>11.0</td>\n",
       "      <td>34.0</td>\n",
       "      <td>0.9978</td>\n",
       "      <td>3.51</td>\n",
       "      <td>0.56</td>\n",
       "      <td>9.4</td>\n",
       "      <td>5</td>\n",
       "    </tr>\n",
       "    <tr>\n",
       "      <th>1</th>\n",
       "      <td>7.8</td>\n",
       "      <td>0.88</td>\n",
       "      <td>0.00</td>\n",
       "      <td>2.6</td>\n",
       "      <td>0.098</td>\n",
       "      <td>25.0</td>\n",
       "      <td>67.0</td>\n",
       "      <td>0.9968</td>\n",
       "      <td>3.20</td>\n",
       "      <td>0.68</td>\n",
       "      <td>9.8</td>\n",
       "      <td>5</td>\n",
       "    </tr>\n",
       "    <tr>\n",
       "      <th>2</th>\n",
       "      <td>7.8</td>\n",
       "      <td>0.76</td>\n",
       "      <td>0.04</td>\n",
       "      <td>2.3</td>\n",
       "      <td>0.092</td>\n",
       "      <td>15.0</td>\n",
       "      <td>54.0</td>\n",
       "      <td>0.9970</td>\n",
       "      <td>3.26</td>\n",
       "      <td>0.65</td>\n",
       "      <td>9.8</td>\n",
       "      <td>5</td>\n",
       "    </tr>\n",
       "    <tr>\n",
       "      <th>3</th>\n",
       "      <td>11.2</td>\n",
       "      <td>0.28</td>\n",
       "      <td>0.56</td>\n",
       "      <td>1.9</td>\n",
       "      <td>0.075</td>\n",
       "      <td>17.0</td>\n",
       "      <td>60.0</td>\n",
       "      <td>0.9980</td>\n",
       "      <td>3.16</td>\n",
       "      <td>0.58</td>\n",
       "      <td>9.8</td>\n",
       "      <td>6</td>\n",
       "    </tr>\n",
       "    <tr>\n",
       "      <th>4</th>\n",
       "      <td>7.4</td>\n",
       "      <td>0.70</td>\n",
       "      <td>0.00</td>\n",
       "      <td>1.9</td>\n",
       "      <td>0.076</td>\n",
       "      <td>11.0</td>\n",
       "      <td>34.0</td>\n",
       "      <td>0.9978</td>\n",
       "      <td>3.51</td>\n",
       "      <td>0.56</td>\n",
       "      <td>9.4</td>\n",
       "      <td>5</td>\n",
       "    </tr>\n",
       "  </tbody>\n",
       "</table>\n",
       "</div>"
      ],
      "text/plain": [
       "   fixed acidity  volatile acidity  citric acid  residual sugar  chlorides  \\\n",
       "0            7.4              0.70         0.00             1.9      0.076   \n",
       "1            7.8              0.88         0.00             2.6      0.098   \n",
       "2            7.8              0.76         0.04             2.3      0.092   \n",
       "3           11.2              0.28         0.56             1.9      0.075   \n",
       "4            7.4              0.70         0.00             1.9      0.076   \n",
       "\n",
       "   free sulfur dioxide  total sulfur dioxide  density    pH  sulphates  \\\n",
       "0                 11.0                  34.0   0.9978  3.51       0.56   \n",
       "1                 25.0                  67.0   0.9968  3.20       0.68   \n",
       "2                 15.0                  54.0   0.9970  3.26       0.65   \n",
       "3                 17.0                  60.0   0.9980  3.16       0.58   \n",
       "4                 11.0                  34.0   0.9978  3.51       0.56   \n",
       "\n",
       "   alcohol  quality  \n",
       "0      9.4        5  \n",
       "1      9.8        5  \n",
       "2      9.8        5  \n",
       "3      9.8        6  \n",
       "4      9.4        5  "
      ]
     },
     "execution_count": 2,
     "metadata": {},
     "output_type": "execute_result"
    }
   ],
   "source": [
    "df = pd.read_csv('data/winequality-red.csv.gz', delimiter=\";\")\n",
    "df.head()"
   ]
  },
  {
   "cell_type": "code",
   "execution_count": 3,
   "metadata": {
    "scrolled": true
   },
   "outputs": [
    {
     "data": {
      "text/plain": [
       "<matplotlib.axes._subplots.AxesSubplot at 0xa6c8cf8>"
      ]
     },
     "execution_count": 3,
     "metadata": {},
     "output_type": "execute_result"
    },
    {
     "data": {
      "image/png": "[encoded data removed]",
      "text/plain": [
       "<matplotlib.figure.Figure at 0xa6c8c18>"
      ]
     },
     "metadata": {},
     "output_type": "display_data"
    }
   ],
   "source": [
    "sns.countplot(x='quality', data=df)"
   ]
  },
  {
   "cell_type": "markdown",
   "metadata": {},
   "source": [
    "данные не сбалансированы, обычно все оценивают вино средним и никогда слишком плохим или слишком хорошим"
   ]
  },
  {
   "cell_type": "code",
   "execution_count": 4,
   "metadata": {
    "collapsed": true
   },
   "outputs": [],
   "source": [
    "X = df.drop(\"quality\", axis=1)\n",
    "y = df[\"quality\"]"
   ]
  },
  {
   "cell_type": "markdown",
   "metadata": {},
   "source": [
    "### 1.2 Сравнение моделей (4 балла)\n",
    "\n",
    "Задача классификации. Все признаки уже числовые. Значит можно пробовать просто все модели и выбрать лучшую. Так и поступим, сделайте кросс валидацию на 5 фолдах, используя `sklearn.model_selection.KFold` как аргумент у `cross_val_score`. Метрика качества будет `accuracy`.\n",
    "\n",
    "Алгоритмы для тестирования:\n",
    "- KNeighborsClassifier с 10 соседями\n",
    "- KNeighborsClassifier с 10 соседями и масштабированием StandartScaler\n",
    "- RidgeClassifier\n",
    "- DecisionTreeClassifier \n",
    "- BaggingClassifier c 100 деревьев\n",
    "- BaggingClassifier с 100 деревьев и каждое дерево обучается только по половине случайно выбранных признаков (см аргументы)\n",
    "- RandomForestClassifier c 100 деревьев\n",
    "\n",
    "Выведите среднее значение метрики качества для каждого из классификаторов. \n",
    "\n",
    "**hint**: каждый следующий алгоритм, будет показывать качество лучше, чем предыдущий. Если у вас не так - то что-то вы делаете неправильно. Везде зафиксируйте random_state=42."
   ]
  },
  {
   "cell_type": "code",
   "execution_count": 5,
   "metadata": {
    "collapsed": true
   },
   "outputs": [],
   "source": [
    "from sklearn.model_selection import KFold, cross_val_score\n",
    "from sklearn.preprocessing import StandardScaler\n",
    "from sklearn.neighbors import KNeighborsClassifier\n",
    "from sklearn.linear_model import RidgeClassifier\n",
    "from sklearn.tree import DecisionTreeClassifier\n",
    "from sklearn.ensemble import BaggingClassifier, RandomForestClassifier"
   ]
  },
  {
   "cell_type": "code",
   "execution_count": 6,
   "metadata": {},
   "outputs": [
    {
     "name": "stdout",
     "output_type": "stream",
     "text": [
      "Wall time: 5 ms\n"
     ]
    },
    {
     "data": {
      "text/plain": [
       "0.51221982758620688"
      ]
     },
     "execution_count": 6,
     "metadata": {},
     "output_type": "execute_result"
    }
   ],
   "source": [
    "kf = KFold(n_splits=5, random_state=42, shuffle=True)\n",
    "scaler = StandardScaler().fit(X)\n",
    "X_scaled = scaler.transform(X)\n",
    "\n",
    "clf_kn = KNeighborsClassifier(n_neighbors=10, n_jobs=4)\n",
    "%time clf_kn.fit(X, y)\n",
    "\n",
    "cross_val_score(clf_kn, X, y, scoring='accuracy', cv=kf, n_jobs=4).mean()"
   ]
  },
  {
   "cell_type": "code",
   "execution_count": 7,
   "metadata": {},
   "outputs": [
    {
     "name": "stdout",
     "output_type": "stream",
     "text": [
      "Wall time: 5 ms\n"
     ]
    },
    {
     "data": {
      "text/plain": [
       "0.57975313479623825"
      ]
     },
     "execution_count": 7,
     "metadata": {},
     "output_type": "execute_result"
    }
   ],
   "source": [
    "clf_kn_scaled = KNeighborsClassifier(n_neighbors=10, n_jobs=4)\n",
    "%time clf_kn_scaled.fit(X_scaled, y)\n",
    "\n",
    "cross_val_score(clf_kn_scaled, X_scaled, y, scoring='accuracy', cv=kf, n_jobs=4).mean()"
   ]
  },
  {
   "cell_type": "code",
   "execution_count": 8,
   "metadata": {},
   "outputs": [
    {
     "name": "stdout",
     "output_type": "stream",
     "text": [
      "Wall time: 11 ms\n"
     ]
    },
    {
     "data": {
      "text/plain": [
       "0.58353840125391854"
      ]
     },
     "execution_count": 8,
     "metadata": {},
     "output_type": "execute_result"
    }
   ],
   "source": [
    "clf_ridge = RidgeClassifier(random_state=42)\n",
    "%time clf_ridge.fit(X, y)\n",
    "\n",
    "cross_val_score(clf_ridge, X, y, scoring='accuracy', cv=kf, n_jobs=4).mean()"
   ]
  },
  {
   "cell_type": "code",
   "execution_count": 9,
   "metadata": {},
   "outputs": [
    {
     "name": "stdout",
     "output_type": "stream",
     "text": [
      "Wall time: 27 ms\n"
     ]
    },
    {
     "data": {
      "text/plain": [
       "0.61852076802507827"
      ]
     },
     "execution_count": 9,
     "metadata": {},
     "output_type": "execute_result"
    }
   ],
   "source": [
    "clf_tree = DecisionTreeClassifier(random_state=42)\n",
    "%time clf_tree.fit(X, y)\n",
    "\n",
    "cross_val_score(clf_tree, X, y, scoring='accuracy', cv=kf, n_jobs=4).mean()"
   ]
  },
  {
   "cell_type": "code",
   "execution_count": 10,
   "metadata": {},
   "outputs": [
    {
     "name": "stdout",
     "output_type": "stream",
     "text": [
      "Wall time: 1.96 s\n"
     ]
    },
    {
     "data": {
      "text/plain": [
       "0.69546042319749213"
      ]
     },
     "execution_count": 10,
     "metadata": {},
     "output_type": "execute_result"
    }
   ],
   "source": [
    "clf_bagging = BaggingClassifier(n_estimators=100, n_jobs=4, random_state=42)\n",
    "%time clf_bagging.fit(X, y)\n",
    "\n",
    "cross_val_score(clf_bagging, X, y, scoring='accuracy', cv=kf, n_jobs=4).mean()"
   ]
  },
  {
   "cell_type": "code",
   "execution_count": 11,
   "metadata": {},
   "outputs": [
    {
     "name": "stdout",
     "output_type": "stream",
     "text": [
      "Wall time: 1.75 s\n"
     ]
    },
    {
     "data": {
      "text/plain": [
       "0.69921630094043885"
      ]
     },
     "execution_count": 11,
     "metadata": {},
     "output_type": "execute_result"
    }
   ],
   "source": [
    "clf_bagging_half = BaggingClassifier(n_estimators=100, max_features=.5, n_jobs=4, random_state=42)\n",
    "%time clf_bagging_half.fit(X, y)\n",
    "\n",
    "cross_val_score(clf_bagging_half, X, y, scoring='accuracy', cv=kf, n_jobs=4).mean()"
   ]
  },
  {
   "cell_type": "code",
   "execution_count": 12,
   "metadata": {},
   "outputs": [
    {
     "name": "stdout",
     "output_type": "stream",
     "text": [
      "Wall time: 335 ms\n"
     ]
    },
    {
     "data": {
      "text/plain": [
       "0.70109130094043892"
      ]
     },
     "execution_count": 12,
     "metadata": {},
     "output_type": "execute_result"
    }
   ],
   "source": [
    "clf_forest  = RandomForestClassifier(n_estimators=100, n_jobs=4, random_state=42)\n",
    "%time clf_forest .fit(X, y)\n",
    "\n",
    "cross_val_score(clf_forest , X, y, scoring='accuracy', cv=kf, n_jobs=4).mean()"
   ]
  },
  {
   "cell_type": "markdown",
   "metadata": {},
   "source": [
    "### 1.3 Расуждения (8 баллов)\n",
    "\n",
    "Ответьте на вопросы развернуто, можете полистать литературу:\n",
    "\n",
    "- почему наблюдается значимая разница в качестве у KNeighborsClassifier с масштабированием и без\n",
    "- почему масштабирование не важно для деревьев решений\n",
    "- почему бэггинг на половине признаков для каждого дерева дал качество предсказания больше, чем на всех? (а он дал!)\n",
    "- у какой модели наибольшей отклонение от среднего качества предсказаний? А почему??"
   ]
  },
  {
   "cell_type": "markdown",
   "metadata": {
    "collapsed": true
   },
   "source": [
    "1. т.к. разные признаки вносят разный вклад, их стоит отмасштсбировать так, чтобы учитывался их вес, тем самым важные признаки будут оказывать наибольшее влияние\n",
    "2. деревья и так учитывают в первую очередь клад важных признаков, т.к. устраивают разбиение в первую очередь по ним\n",
    "3. так избегаем переобучения, т.к. делать обобщение проще только по наиболее значимым признакам\n",
    "4. У первой меодели, т.к. предскание наиболее неточное, метрические алгоритмы страдают из за проклятия размерности, по тому данные нужно масштабировать "
   ]
  },
  {
   "cell_type": "markdown",
   "metadata": {},
   "source": [
    "## 2 Переобучение и Ко\n",
    "\n",
    "В последнем задании вы уже заметили, что случайный лес может вести себя немного нестабильно. В этом задании мы возьмем опять датасет MNIST(простите) и будем его решать деревьями. Почему мы взяли его? Потому что в нем фактически много разных признаков (значения пикселей в пространстве), а деревья строятсья делая разбиения по признакам. Обычно на эти разбиения не обращают внимание, так как главное что тюнят - это глубина дереьвев, количество деревьев, а кучу других параметров обходят стороной, так как они \"неясные\". Попробуем прояснить их."
   ]
  },
  {
   "cell_type": "markdown",
   "metadata": {},
   "source": [
    "### 2.1 Загрузка датасета (1 балл)\n",
    "\n",
    "Загрузите датасет с помощью функции `sklearn.datasets.load_digits`. В нем будут 64px картинки в векторной форме.\n",
    "\n",
    "Нарисуйте первые 10 цифр в одной ячейке, чтобы было красиво."
   ]
  },
  {
   "cell_type": "code",
   "execution_count": 13,
   "metadata": {
    "collapsed": true
   },
   "outputs": [],
   "source": [
    "from sklearn.datasets import load_digits\n",
    "from matplotlib import pyplot as plt\n",
    "X_dig, y_dig = load_digits(return_X_y=True)"
   ]
  },
  {
   "cell_type": "code",
   "execution_count": 14,
   "metadata": {},
   "outputs": [
    {
     "data": {
      "image/png": "[encoded data removed]",
      "text/plain": [
       "<matplotlib.figure.Figure at 0xc8f8518>"
      ]
     },
     "metadata": {},
     "output_type": "display_data"
    }
   ],
   "source": [
    "plt.figure(figsize=(16, 6))\n",
    "for i in range(10):\n",
    "    plt.subplot(2, 5, i + 1)\n",
    "    plt.imshow(X_dig[i,:].reshape([8,8]))"
   ]
  },
  {
   "cell_type": "markdown",
   "metadata": {},
   "source": [
    "### 2.2 Перебор классификаторов (3 балла)\n",
    "\n",
    "В этом задании вам снова придется перебрать несколько классификаторов, но теперь мы обратим внимание на другие гиперпараметры и их влияние на качество классификации, кстати опять `accuracy`.\n",
    "\n",
    "Сделайте кроссвалидацию на 10 фолдах, указав `cv=10` для следующих классификаторов:\n",
    "\n",
    "- DecisionTreeClassifier с параметрами по-умолчанию\n",
    "- BaggingClassifier с 100 деревьвев\n",
    "- BaggingClassifier с 100 деревьев, НО с ограничением на максимальное количество признаков, участвующих при обучении каждого из деревьев в $\\sqrt{N}$, где $N$ - это число признаков.\n",
    "- BaggingClassifier с 100 деревьев, НО с ограничением на количество признаков участвующих в разбиении для каждого из деревьев в $\\sqrt{N}$, где $N$ - это число признаков. Это отличается от предыдущей модели тем, где ограничивается `max_features`. Читайте документацию :trollface:\n",
    "- обычный случайный лес со 100 деревьями"
   ]
  },
  {
   "cell_type": "code",
   "execution_count": 15,
   "metadata": {},
   "outputs": [
    {
     "name": "stdout",
     "output_type": "stream",
     "text": [
      "Accuracy DecisionTreeClassifier: 0.8370850802141552\n",
      "StdAccuracy DecisionTreeClassifier: 0.04023050598893108\n"
     ]
    }
   ],
   "source": [
    "scores_tree = cross_val_score(clf_tree, X_dig, y_dig, cv=10, scoring='accuracy')\n",
    "print(\"Accuracy DecisionTreeClassifier: {}\".format(scores_tree.mean()))\n",
    "print(\"StdAccuracy DecisionTreeClassifier: {}\".format(scores_tree.std()))"
   ]
  },
  {
   "cell_type": "code",
   "execution_count": 16,
   "metadata": {},
   "outputs": [
    {
     "name": "stdout",
     "output_type": "stream",
     "text": [
      "Accuracy BaggingClassifier: 0.9266223799121667\n",
      "StdAccuracy BaggingClassifier: 0.0333050023022444\n"
     ]
    }
   ],
   "source": [
    "scores_bagging = cross_val_score(clf_bagging, X_dig, y_dig, cv=10, scoring='accuracy')\n",
    "print(\"Accuracy BaggingClassifier: {}\".format(scores_bagging.mean()))\n",
    "print(\"StdAccuracy BaggingClassifier: {}\".format(scores_bagging.std()))"
   ]
  },
  {
   "cell_type": "code",
   "execution_count": 17,
   "metadata": {},
   "outputs": [
    {
     "name": "stdout",
     "output_type": "stream",
     "text": [
      "Accuracy BaggingClassifier2: 0.9311692335245662\n",
      "StdAccuracy BaggingClassifier2: 0.035212933332060735\n"
     ]
    }
   ],
   "source": [
    "clf_bagging_mf = BaggingClassifier(n_estimators=100, max_features=int(np.sqrt(len(X_dig[0]))), n_jobs=4, random_state=42)\n",
    "\n",
    "scores_bagging_mf = cross_val_score(clf_bagging_mf, X_dig, y_dig, cv=10, scoring='accuracy')\n",
    "print(\"Accuracy BaggingClassifier2: {}\".format(scores_bagging_mf.mean()))\n",
    "print(\"StdAccuracy BaggingClassifier2: {}\".format(scores_bagging_mf.std()))"
   ]
  },
  {
   "cell_type": "code",
   "execution_count": 18,
   "metadata": {},
   "outputs": [
    {
     "name": "stdout",
     "output_type": "stream",
     "text": [
      "Accuracy BaggingClassifier2: 0.9533321022473988\n",
      "StdAccuracy BaggingClassifier2: 0.020694067859313794\n"
     ]
    }
   ],
   "source": [
    "clf_bagging_mf2  = BaggingClassifier(base_estimator=DecisionTreeClassifier(random_state=42, max_features=int(np.sqrt(len(X_dig[0])))), n_estimators=100, n_jobs=4, random_state=42)\n",
    "\n",
    "scores_bagging_mf2 = cross_val_score(clf_bagging_mf2, X_dig, y_dig, cv=10, scoring='accuracy')\n",
    "print(\"Accuracy BaggingClassifier2: {}\".format(scores_bagging_mf2.mean()))\n",
    "print(\"StdAccuracy BaggingClassifier2: {}\".format(scores_bagging_mf2.std()))"
   ]
  },
  {
   "cell_type": "code",
   "execution_count": 19,
   "metadata": {},
   "outputs": [
    {
     "name": "stdout",
     "output_type": "stream",
     "text": [
      "Accuracy RandomForestClassifier: 0.9533106688723997\n",
      "StdAccuracy RandomForestClassifier: 0.020680012777850015\n"
     ]
    }
   ],
   "source": [
    "scores_forest = cross_val_score(clf_forest, X_dig, y_dig, cv=10, scoring='accuracy')\n",
    "print(\"Accuracy RandomForestClassifier: {}\".format(scores_forest.mean()))\n",
    "print(\"StdAccuracy RandomForestClassifier: {}\".format(scores_forest.std()))"
   ]
  },
  {
   "cell_type": "markdown",
   "metadata": {},
   "source": [
    "### 2.3 В чём разница? (3 балла)\n",
    "\n",
    "Ответье на вопрос: \n",
    "\n",
    "Странно то как? Почему ограничение на количество признаков в разбиении дерева и ограничение в количестве признаков для построения каждого дерева в BaggingClasifier дало СОВСЕМ разный результат в качестве предсказания? В чем магия?\n",
    "\n",
    "![](https://i.ytimg.com/vi/_5GWMIAHc08/hqdefault.jpg)"
   ]
  },
  {
   "cell_type": "markdown",
   "metadata": {},
   "source": [
    "### 2.4 Количество деревьев (2 балла)\n",
    "\n",
    "Сделайте перебор количества деревьев для `RandomForestClassifier`. Сохраните качества кросс валидации на 10 фолдах для `[1,5,10,15,50,100,150,200,300]` количества деревьев. Нарисуйте график, где по оси x - количество деревьев, а по оси y - качество. При каком количестве деревьев получается самое хорошее качество?"
   ]
  },
  {
   "cell_type": "code",
   "execution_count": 20,
   "metadata": {},
   "outputs": [
    {
     "name": "stdout",
     "output_type": "stream",
     "text": [
      "1 trees\n",
      "Wall time: 116 ms\n",
      "Score: 0.761635733552\n",
      "5 trees\n",
      "Wall time: 111 ms\n",
      "Score: 0.883702869674\n",
      "10 trees\n",
      "Wall time: 133 ms\n",
      "Score: 0.927202121785\n",
      "15 trees\n",
      "Wall time: 126 ms\n",
      "Score: 0.941717861426\n",
      "50 trees\n",
      "Wall time: 152 ms\n",
      "Score: 0.955011386465\n",
      "100 trees\n",
      "Wall time: 314 ms\n",
      "Score: 0.953310668872\n",
      "150 trees\n",
      "Wall time: 515 ms\n",
      "Score: 0.948331555706\n",
      "200 trees\n",
      "Wall time: 610 ms\n",
      "Score: 0.949973868701\n",
      "300 trees\n",
      "Wall time: 931 ms\n",
      "Score: 0.951622990901\n"
     ]
    }
   ],
   "source": [
    "estimators = [1,5,10,15,50,100,150,200,300]\n",
    "scores = []\n",
    "\n",
    "for e in estimators:\n",
    "    clf = RandomForestClassifier(n_estimators=e, n_jobs=4, random_state=42)\n",
    "    print(e, 'trees')\n",
    "    %time clf.fit(X_dig, y_dig)\n",
    "    score = cross_val_score(clf, X_dig, y_dig, scoring='accuracy', cv=10, n_jobs=4).mean()\n",
    "    print('Score:', score)\n",
    "    \n",
    "    scores.append(score)"
   ]
  },
  {
   "cell_type": "code",
   "execution_count": 21,
   "metadata": {},
   "outputs": [
    {
     "name": "stdout",
     "output_type": "stream",
     "text": [
      "Optimal quantity of estimators: 50\n"
     ]
    },
    {
     "data": {
      "image/png": "[encoded data removed]",
      "text/plain": [
       "<matplotlib.figure.Figure at 0xca57208>"
      ]
     },
     "metadata": {},
     "output_type": "display_data"
    }
   ],
   "source": [
    "arg = np.argmax(scores)\n",
    "\n",
    "plt.plot(estimators, scores)\n",
    "plt.axvline(estimators[arg], color='r')\n",
    "\n",
    "print('Optimal quantity of estimators:', estimators[arg])"
   ]
  },
  {
   "cell_type": "markdown",
   "metadata": {},
   "source": [
    "### 2.5 Количество признаков  (2 балла)\n",
    "\n",
    "Переберите теперь максимальное количество признаков для `RandomForestClassifier` на 100 деревьях, от 1 до 64 с шагом 5. Постройте график качества по кроссвалидации на 10 фолдах."
   ]
  },
  {
   "cell_type": "code",
   "execution_count": 22,
   "metadata": {},
   "outputs": [
    {
     "name": "stdout",
     "output_type": "stream",
     "text": [
      "features: 1\n",
      "Wall time: 355 ms\n",
      "Score: 0.951667794048\n",
      "\n",
      "features: 4\n",
      "Wall time: 347 ms\n",
      "Score: 0.960037515214\n",
      "\n",
      "features: 8\n",
      "Wall time: 315 ms\n",
      "Score: 0.953310668872\n",
      "\n",
      "features: 12\n",
      "Wall time: 414 ms\n",
      "Score: 0.951091013339\n",
      "\n",
      "features: 16\n",
      "Wall time: 432 ms\n",
      "Score: 0.948352750518\n",
      "\n",
      "features: 20\n",
      "Wall time: 442 ms\n",
      "Score: 0.946065352762\n",
      "\n",
      "features: 24\n",
      "Wall time: 537 ms\n",
      "Score: 0.94887199695\n",
      "\n",
      "features: 28\n",
      "Wall time: 962 ms\n",
      "Score: 0.940487146243\n",
      "\n",
      "features: 32\n",
      "Wall time: 694 ms\n",
      "Score: 0.946022775544\n",
      "\n",
      "features: 36\n",
      "Wall time: 765 ms\n",
      "Score: 0.94155574176\n",
      "\n",
      "features: 40\n",
      "Wall time: 680 ms\n",
      "Score: 0.944932135795\n",
      "\n",
      "features: 44\n",
      "Wall time: 701 ms\n",
      "Score: 0.94050591701\n",
      "\n",
      "features: 48\n",
      "Wall time: 951 ms\n",
      "Score: 0.939998650243\n",
      "\n",
      "features: 52\n",
      "Wall time: 1.05 s\n",
      "Score: 0.933840355282\n",
      "\n",
      "features: 56\n",
      "Wall time: 1.15 s\n",
      "Score: 0.928777408226\n",
      "\n",
      "features: 60\n",
      "Wall time: 1.39 s\n",
      "Score: 0.92938833508\n",
      "\n",
      "features: 64\n",
      "Wall time: 886 ms\n",
      "Score: 0.926606649409\n",
      "\n"
     ]
    }
   ],
   "source": [
    "features = np.append([1], range(4, 65, 4))\n",
    "scores = []\n",
    "\n",
    "for e in features:\n",
    "    clf = RandomForestClassifier(n_estimators=100, max_features=e, n_jobs=4, random_state=42)\n",
    "    print('features:', e)\n",
    "    %time clf.fit(X_dig, y_dig)\n",
    "    score = cross_val_score(clf, X_dig, y_dig, scoring='accuracy', cv=10, n_jobs=4).mean()\n",
    "    print('Score:', score)\n",
    "    print()\n",
    "    \n",
    "    scores.append(score)"
   ]
  },
  {
   "cell_type": "markdown",
   "metadata": {},
   "source": [
    "### 2.5 Вопросы по RandomForest (8 баллов)\n",
    "\n",
    "Ответьте на вопросы:\n",
    "\n",
    "- Что происходит с ростом числа деревьев у случайного леса. Можно ли просто всегда брать 5000 деревьев и быть счастливым?\n",
    "- Как зависит качество предсказания в дереве в зависимости от max_features?\n",
    "- Почему качество зависит от max_features?\n",
    "- Как глубина деревьев влияет на качество случайного леса?\n",
    "\n"
   ]
  },
  {
   "cell_type": "markdown",
   "metadata": {},
   "source": [
    "1. качество классификатора увелиичивается, пока не начинает переобучаться, оптимальное значение находится в районе 50\n",
    "2. как и с числом деревьев имеется некое оптимальное число\n",
    "3. если фичей будет мало, то классификатор недообучается, если их будет слишком много, то признаки, которые не имеют значения начнут вносить свой вклад, из за чего возникнет переобучение\n",
    "4. при слишком большой глубине дерево перестанет обощать данные и заточится под конкретную выборку, деревья не стоит делать слишком глубокими"
   ]
  },
  {
   "cell_type": "markdown",
   "metadata": {},
   "source": [
    "![](https://habrastorage.org/web/ad8/366/a44/ad8366a4469346c6b2e1306495b05d1a.jpg)"
   ]
  }
 ],
 "metadata": {
  "kernelspec": {
   "display_name": "Python 3",
   "language": "python",
   "name": "python3"
  },
  "language_info": {
   "codemirror_mode": {
    "name": "ipython",
    "version": 3
   },
   "file_extension": ".py",
   "mimetype": "text/x-python",
   "name": "python",
   "nbconvert_exporter": "python",
   "pygments_lexer": "ipython3",
   "version": "3.6.1"
  }
 },
 "nbformat": 4,
 "nbformat_minor": 2
}
